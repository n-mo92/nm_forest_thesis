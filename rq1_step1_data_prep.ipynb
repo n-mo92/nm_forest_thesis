{
 "cells": [
  {
   "cell_type": "markdown",
   "metadata": {},
   "source": [
    "## RQ1 Data Preparation\n",
    "\n",
    "[Add description]\n",
    "\n",
    "Basic steps:\n",
    "- Load all datasets (5 forest definitions and Natura 2000)\n",
    "- Reproject to common projection\n",
    "- Filter/clip to German Natura 2000\n"
   ]
  },
  {
   "cell_type": "code",
   "execution_count": 11,
   "metadata": {},
   "outputs": [],
   "source": [
    "## Some initial setup\n",
    "\n",
    "# Setting the current working directory\n",
    "from pathlib import Path\n",
    "cwd = Path.cwd()\n",
    "#print(cwd)"
   ]
  },
  {
   "cell_type": "markdown",
   "metadata": {},
   "source": [
    "### Manually Download Datasets\n",
    "\n",
    "As several of the datasets require login credentials and are not available through an API, I decided to manually download all the required data. I have stored everything in a folder within the working directory called \"rawdata\" which is set to be ignored by git - this is because the files are too big to host on my GitHub repo.\n",
    "\n",
    "**So for the first step: manually download all datasets using the notes below and save to a folder in the working directory called \"rawdata\".** \n",
    "\n",
    "Note: I have downloaded the 2018 datasets as this is the most recent data available across all datasets. \n",
    "\n",
    "**1. NASA Land Cover**\n",
    "- Download date:\n",
    "- Downloaded from:\n",
    "- File:\n",
    "\n",
    "**2. ESA Land Cover**\n",
    "- Download date: 14 Jan 2025\n",
    "- Downloaded from: https://cds.climate.copernicus.eu/datasets/satellite-land-cover?tab=download \n",
    "    - Login credentials required \n",
    "    - IMPORTANT: only downloaded sub-region for Germany bbox (N:56, W:1, E:16, S:46)\n",
    "- File: rawdata/C3S-LC-L4-LCCS-Map-300m-P1Y-2018-v2.1.1.area-subset.56.1.46.16.nc\n",
    "\n",
    "**3. JAXA FNF** \n",
    "- Download date:\n",
    "- Downloaded from: https://www.eorc.jaxa.jp/ALOS/en/palsar_fnf/data/index.htm\n",
    "    - Login credentials required (https://www.eorc.jaxa.jp/ALOS/en/palsar_fnf/registration.htm)\n",
    "    - IMPORTANT: 73 tiles needed for Germany Natura areas (see rawdata/jaxa_tile_list.txt)\n",
    "- Files: rawdata/jaxa_2018_fnf_ger.zip (contains 73 tifs)  \n",
    "\n",
    "**4. CORINE Land Use** \n",
    "- Download date: 14 Jan 2025\n",
    "- Downloaded from: https://land.copernicus.eu/en/products/corine-land-cover/clc2018#download\n",
    "    - Login credentials required \n",
    "- File: rawdata/U2018_CLC2018_V2020_20u1.tif\n",
    "\n",
    "**5. German Land Use**\n",
    "- Download date: 14 Jan 2025\n",
    "- Downloaded from: https://gdz.bkg.bund.de/index.php/default/corine-land-cover-5-ha-stand-2018-clc5-2018.html  \n",
    "    - No login required\n",
    "    - IMPORTANT: I've included all 5 classes as this is required for producing the FAO map\n",
    "-File: clc5_classXxx.zip (contains: 5 shapefiles & their components)\n",
    "\n",
    "**6. Natura 2000 protected areas**\n",
    "- Download date:\n",
    "- Downloaded from:\n",
    "- File:"
   ]
  },
  {
   "cell_type": "code",
   "execution_count": 16,
   "metadata": {},
   "outputs": [],
   "source": [
    "### JAXA\n",
    "\n",
    "\n",
    "### CORINE\n",
    "\n",
    "\n"
   ]
  }
 ],
 "metadata": {
  "kernelspec": {
   "display_name": "thesis_env",
   "language": "python",
   "name": "python3"
  },
  "language_info": {
   "codemirror_mode": {
    "name": "ipython",
    "version": 3
   },
   "file_extension": ".py",
   "mimetype": "text/x-python",
   "name": "python",
   "nbconvert_exporter": "python",
   "pygments_lexer": "ipython3",
   "version": "3.12.7"
  }
 },
 "nbformat": 4,
 "nbformat_minor": 2
}
