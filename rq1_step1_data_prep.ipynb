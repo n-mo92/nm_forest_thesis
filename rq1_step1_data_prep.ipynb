{
 "cells": [
  {
   "cell_type": "markdown",
   "metadata": {},
   "source": [
    "## RQ1 Data Preparation\n",
    "\n",
    "[Add description]\n",
    "\n",
    "Basic steps:\n",
    "- Load all datasets (5 forest definitions and Natura 2000)\n",
    "- Filter/clip to German Natura 2000\n"
   ]
  },
  {
   "cell_type": "code",
   "execution_count": 11,
   "metadata": {},
   "outputs": [],
   "source": [
    "## Some initial setup\n",
    "\n",
    "# Setting the current working directory\n",
    "from pathlib import Path\n",
    "cwd = Path.cwd()\n",
    "#print(cwd)"
   ]
  },
  {
   "cell_type": "markdown",
   "metadata": {},
   "source": [
    "### Load Datasets\n",
    "\n",
    "As several of the datasets require login credentials and are not available through API, I decided to download all the required data and simply load it into Python.\n",
    "\n",
    "Data required:\n",
    "- NASA Land Cover\n",
    "- ESA Land Cover\n",
    "- JAXA FNF \n",
    "- CORINE Land Use\n",
    "- German Land Use\n",
    "- Natura 2000 protected areas\n"
   ]
  },
  {
   "cell_type": "code",
   "execution_count": 12,
   "metadata": {},
   "outputs": [],
   "source": [
    "### JAXA\n",
    "# Downloaded from: \n",
    "\n",
    "### CORINE\n",
    "# Downloaded from: https://land.copernicus.eu/en/products/corine-land-cover/clc2018#download\n",
    "\n"
   ]
  }
 ],
 "metadata": {
  "kernelspec": {
   "display_name": "thesis_env",
   "language": "python",
   "name": "python3"
  },
  "language_info": {
   "codemirror_mode": {
    "name": "ipython",
    "version": 3
   },
   "file_extension": ".py",
   "mimetype": "text/x-python",
   "name": "python",
   "nbconvert_exporter": "python",
   "pygments_lexer": "ipython3",
   "version": "3.12.7"
  }
 },
 "nbformat": 4,
 "nbformat_minor": 2
}
