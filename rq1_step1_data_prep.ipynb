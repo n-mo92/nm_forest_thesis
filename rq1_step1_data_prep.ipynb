{
 "cells": [
  {
   "cell_type": "markdown",
   "metadata": {},
   "source": [
    "## RQ1 Data Preparation\n",
    "\n",
    "[Add description]\n",
    "\n",
    "Basic steps:\n",
    "- Load all datasets (5 forest definitions and Natura 2000)\n",
    "- Reproject to common projection\n",
    "- Filter/clip to German Natura 2000\n"
   ]
  },
  {
   "cell_type": "code",
   "execution_count": 11,
   "metadata": {},
   "outputs": [],
   "source": [
    "## Some initial setup\n",
    "\n",
    "# Setting the current working directory\n",
    "from pathlib import Path\n",
    "cwd = Path.cwd()\n",
    "#print(cwd)"
   ]
  },
  {
   "cell_type": "markdown",
   "metadata": {},
   "source": [
    "### Manually Download Datasets\n",
    "\n",
    "As several of the datasets require login credentials and are not available through an API, I decided to manually download all the required data. I have stored everything in a folder within the working directory called \"rawdata\" which is set to be ignored by git - this is because the files are too big to host on my GitHub repo.\n",
    "\n",
    "**So for the first step: manually download all datasets using the notes below and save to a folder in the working directory called \"rawdata\".** \n",
    "\n",
    "Note: For the forest definiton layers I have downloaded the 2018 datasets as this is the most recent data available across all datasets. \n",
    "\n",
    "**1. UMD (Hansen) / Global Forest Watch**\n",
    "- Download date: 15 Jan 2025\n",
    "- Downloaded from: https://storage.googleapis.com/earthenginepartners-hansen/GFC-2023-v1.11/download.html\n",
    "    - Download treecover2000, gain & lossyear for the 4 granules with top-left corner at: 60N, 0E; 60N, 10E; 50N, 0E and 50N, 10E \n",
    "- File: rawdata/Hansen_GFC-2023-v1.11.zip (contains 12 tifs - 4 each for cover, gain and loss)\n",
    "\n",
    "**2. ESA Land Cover**\n",
    "- Download date: 14 Jan 2025\n",
    "- Downloaded from: https://cds.climate.copernicus.eu/datasets/satellite-land-cover?tab=download \n",
    "    - Login credentials required \n",
    "    - Only downloaded sub-region for Germany bbox (N:56, W:1, E:16, S:46)\n",
    "- File: rawdata/C3S-LC-L4-LCCS-Map-300m-P1Y-2018-v2.1.1.area-subset.56.1.46.16.nc\n",
    "\n",
    "**3. JAXA FNF** \n",
    "- Download date: 15 Jan 2025\n",
    "- Downloaded from: https://www.eorc.jaxa.jp/ALOS/en/palsar_fnf/data/index.htm\n",
    "    - Login credentials required (https://www.eorc.jaxa.jp/ALOS/en/palsar_fnf/registration.htm)\n",
    "    - 73 tiles needed for Germany Natura areas (see other/jaxa_tile_list.txt)\n",
    "- Files: rawdata/jaxa_2018_fnf_ger.zip (contains 73 tifs)  \n",
    "\n",
    "**4. CORINE Land Use** \n",
    "- Download date: 14 Jan 2025\n",
    "- Downloaded from: https://land.copernicus.eu/en/products/corine-land-cover/clc2018#download\n",
    "    - Login credentials required \n",
    "- File: rawdata/U2018_CLC2018_V2020_20u1.tif\n",
    "\n",
    "**5. German Land Use**\n",
    "- Download date: 14 Jan 2025\n",
    "- Downloaded from: https://gdz.bkg.bund.de/index.php/default/corine-land-cover-5-ha-stand-2018-clc5-2018.html  \n",
    "    - This will download all 5 classes which is required for producing the FAO map\n",
    "-File: clc5_classXxx.zip (contains: 5 shp & their components)\n",
    "\n",
    "**6. Natura 2000 protected areas**\n",
    "- Download date: 15 Jan 2025\n",
    "- Downloaded from: https://www.eea.europa.eu/en/datahub/datahubitem-view/6fc8ad2d-195d-40f4-bdec-576e7d1268e4\n",
    "    - Downloaded most recent date available (2022)\n",
    "- File:Natura2000_end2022_epsg3035.zip (contains: 1 shp & its components)"
   ]
  },
  {
   "cell_type": "markdown",
   "metadata": {},
   "source": [
    "### Load & Prepare Data"
   ]
  }
 ],
 "metadata": {
  "kernelspec": {
   "display_name": "thesis_env",
   "language": "python",
   "name": "python3"
  },
  "language_info": {
   "codemirror_mode": {
    "name": "ipython",
    "version": 3
   },
   "file_extension": ".py",
   "mimetype": "text/x-python",
   "name": "python",
   "nbconvert_exporter": "python",
   "pygments_lexer": "ipython3",
   "version": "3.12.7"
  }
 },
 "nbformat": 4,
 "nbformat_minor": 2
}
