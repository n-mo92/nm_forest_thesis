{
 "cells": [
  {
   "cell_type": "markdown",
   "id": "30a4f1ea",
   "metadata": {},
   "source": [
    "To do: think about how to handle the max class - should it be the max across all classes, the max across class 3, 4, 5, 6 or the max between 3 and 6"
   ]
  },
  {
   "cell_type": "code",
   "execution_count": null,
   "id": "57fb618d",
   "metadata": {},
   "outputs": [],
   "source": [
    "# RQ3 PREP FOR CLASS 3 & & ONLY\n",
    "# Convert the counts per class to area (hectares)\n",
    "trails_stats_filter[\"3_area_ha\"] = trails_stats_filter[\"3_count\"] * 0.002\n",
    "trails_stats_filter[\"6_area_ha\"] = trails_stats_filter[\"6_count\"] * 0.002\n",
    "\n",
    "# Calculate the total area of each geometry\n",
    "trails_stats_filter[\"total_area_ha\"] = trails_stats_filter.area * 0.0001\n",
    "\n",
    "# Calculate the percentage coverage\n",
    "trails_stats_filter[\"3_percent\"] = (trails_stats_filter[\"3_area_ha\"] / \\\n",
    "                                    trails_stats_filter[\"total_area_ha\"]) * 100\n",
    "trails_stats_filter[\"6_percent\"] = (trails_stats_filter[\"6_area_ha\"] / \\\n",
    "                                    trails_stats_filter[\"total_area_ha\"]) * 100\n",
    "\n",
    "# Add a column for the class with the highest percentage\n",
    "trails_stats_filter[\"max_class\"] = trails_stats_filter[[\"3_percent\", \"6_percent\"]].idxmax(axis=1) \n",
    "\n",
    "# Replace the row values created in the last step to remove the word \"percent\"\n",
    "trails_stats_filter.replace(\"3_percent\",\"3\", inplace=True)\n",
    "trails_stats_filter.replace(\"6_percent\",\"6\", inplace=True)"
   ]
  }
 ],
 "metadata": {
  "kernelspec": {
   "display_name": "Python 3",
   "language": "python",
   "name": "python3"
  },
  "language_info": {
   "name": "python",
   "version": "3.12.7"
  }
 },
 "nbformat": 4,
 "nbformat_minor": 5
}
