{
 "cells": [
  {
   "cell_type": "markdown",
   "id": "331c85f0",
   "metadata": {},
   "source": [
    "## RQ3 Full Process\n",
    "\n",
    "General plan:\n",
    "- Separate the main corpus into two separate ones: one where the dominant consensus class is Non-Consensus (max_class=3) and one where the dominant consensus is Full Conensus Forest (max_class=6).\n",
    "- Perform the same text processing as in rq2_step2_text_analysis.ipynb to generate the tokens\n",
    "- Assign each token their cluster from rq2_step2_text_analysis.ipynb\n",
    "- Isolate the clusters I'm interested in \n",
    "- Compare those clusters (cluster membership metric?)"
   ]
  },
  {
   "cell_type": "markdown",
   "id": "f5631f78",
   "metadata": {},
   "source": [
    "To do: think about how to handle the max class - should it be the max across all classes, the max across class 3, 4, 5, 6 or the max between 3 and 6"
   ]
  },
  {
   "cell_type": "code",
   "execution_count": 1,
   "id": "57fb618d",
   "metadata": {},
   "outputs": [],
   "source": [
    "# SETUP\n",
    "\n",
    "# Import packages\n",
    "import pandas as pd\n"
   ]
  },
  {
   "cell_type": "markdown",
   "id": "10b58adc",
   "metadata": {},
   "source": [
    "### Step 1: Create separate corpora\n",
    "\n",
    "Separate the main corpus into two separate ones: one where the dominant consensus class is Non-Consensus (max_class=3) and one where the dominant consensus is Full Conensus Forest (max_class=6)."
   ]
  },
  {
   "cell_type": "code",
   "execution_count": null,
   "id": "6c41fba7",
   "metadata": {},
   "outputs": [],
   "source": [
    "# Load the master CSV from rq2_step1_data_collection\n",
    "master = pd.read_csv(\"./processing/master.csv\")\n",
    "\n",
    "# Separate the master corpus into 2 corpora for class 3 and 6\n",
    "corpus_3 = master[master[\"max_class\"] == 3]\n",
    "corpus_6 = master[master[\"max_class\"] == 6]"
   ]
  }
 ],
 "metadata": {
  "kernelspec": {
   "display_name": "Python 3",
   "language": "python",
   "name": "python3"
  },
  "language_info": {
   "codemirror_mode": {
    "name": "ipython",
    "version": 3
   },
   "file_extension": ".py",
   "mimetype": "text/x-python",
   "name": "python",
   "nbconvert_exporter": "python",
   "pygments_lexer": "ipython3",
   "version": "3.12.7"
  }
 },
 "nbformat": 4,
 "nbformat_minor": 5
}
