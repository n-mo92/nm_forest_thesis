{
 "cells": [
  {
   "cell_type": "markdown",
   "metadata": {},
   "source": [
    "## RQ1 Forest Definition Comparison \n",
    "\n",
    "[Add description]\n",
    "\n",
    "Steps\n",
    "1. Load forest definitions maps from Step 1 AND Step 2\n",
    "2. Reclassify all maps to FNF\n",
    "3. Run comparative statistics\n",
    "4. Sum pixels to create definition consensus map (Sexton et al 2016 approach)\n",
    "5. Generate visualisations"
   ]
  }
 ],
 "metadata": {
  "kernelspec": {
   "display_name": "thesis_env",
   "language": "python",
   "name": "python3"
  },
  "language_info": {
   "name": "python",
   "version": "3.12.7"
  }
 },
 "nbformat": 4,
 "nbformat_minor": 2
}
