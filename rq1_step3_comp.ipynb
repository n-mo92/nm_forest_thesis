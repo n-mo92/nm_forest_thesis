{
 "cells": [
  {
   "cell_type": "markdown",
   "metadata": {},
   "source": [
    "## RQ1 Forest Definition Comparison \n",
    "\n",
    "[Add description]\n",
    "\n",
    "Steps\n",
    "1. Load forest definitions maps from Step 1 AND Step 2\n",
    "2. Reclassify all maps to FNF\n",
    "3. Run comparative statistics\n",
    "4. Sum pixels to create definition consensus map (Sexton et al 2016 approach)\n",
    "5. Generate visualisations"
   ]
  },
  {
   "cell_type": "markdown",
   "metadata": {},
   "source": [
    "Maybe useful for reclassifying raster? https://pygis.io/docs/e_raster_replace_values.html "
   ]
  },
  {
   "cell_type": "markdown",
   "metadata": {},
   "source": [
    "Maybe useful for the analysis part: zonal statistics https://github.com/shakasom/zonalstatistics\n",
    "\n",
    "or here (scroll down to \"Extraction with polygons\"): https://py.geocompx.org/05-raster-vector "
   ]
  }
 ],
 "metadata": {
  "kernelspec": {
   "display_name": "thesis_env_conda",
   "language": "python",
   "name": "python3"
  },
  "language_info": {
   "name": "python",
   "version": "3.12.7"
  }
 },
 "nbformat": 4,
 "nbformat_minor": 2
}
