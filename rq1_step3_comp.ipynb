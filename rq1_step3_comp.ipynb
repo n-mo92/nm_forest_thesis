{
 "cells": [
  {
   "cell_type": "markdown",
   "metadata": {},
   "source": [
    "## RQ1 Forest Definition Comparisons \n",
    "\n",
    "[Add description]\n",
    "\n",
    "For analysis and comaprison steps - make visualisations!\n",
    "\n",
    "Steps\n",
    "1. Analyse & Compare FNF maps (6 maps total from steps 1 & 2) \n",
    "    1. For Germany\n",
    "    2. For Natura 2000 areas (use zonal statistics)\n",
    "2. Create *Forest Presence/Absence Consensus Map* (Sexton et al 2016 approach)\n",
    "3. Analyse Consensus Map\n",
    "    1. For Germany\n",
    "    2. For Natura 2000 areas (use zonal statistics)\n"
   ]
  },
  {
   "cell_type": "code",
   "execution_count": 1,
   "metadata": {},
   "outputs": [],
   "source": [
    "# SETUP\n",
    "\n",
    "# Note: this .ipynb file depends on files & folder structures created in rq1_step1_data_prep.ipynb \n",
    "# and rq1_step2_fao_forest.ipynb\n",
    "\n",
    "# Import packages\n",
    "import subprocess\n",
    "\n",
    "# Store gdal.py paths\n",
    "gdal_calc = \"./thesis_env_conda/Lib/site-packages/GDAL-3.10.1-py3.12-win-amd64.egg-info/scripts/gdal_calc.py\""
   ]
  },
  {
   "cell_type": "markdown",
   "metadata": {},
   "source": [
    "Maybe useful for the analysis part: zonal statistics https://github.com/shakasom/zonalstatistics\n",
    "\n",
    "or here (scroll down to \"Extraction with polygons\"): https://py.geocompx.org/05-raster-vector "
   ]
  },
  {
   "cell_type": "markdown",
   "metadata": {},
   "source": [
    "### Step 1: Analyse & Compare FNF Maps\n",
    "\n",
    "Create visaulisations as well (maps and graphs)"
   ]
  },
  {
   "cell_type": "markdown",
   "metadata": {},
   "source": [
    "### Step 2: Create Forest Presence/Absence Consensus map \n",
    "\n",
    "Sexton et al 2016 approach - basically just sum the FNF maps"
   ]
  },
  {
   "cell_type": "code",
   "execution_count": 2,
   "metadata": {},
   "outputs": [
    {
     "name": "stdout",
     "output_type": "stream",
     "text": [
      "0...10...20...30...40...50...60...70...80...90...100 - done.\n",
      "\n",
      "\n"
     ]
    }
   ],
   "source": [
    "# 2: FOREST CONSENSUS MAP\n",
    "\n",
    "# Store paths to the FNF maps\n",
    "esa_FNF = \"./outputs/esa_lccs_class_3035_DE_5m_FNF.tif\"\n",
    "jaxa_FNF = \"./outputs/jaxa_FNF_3035_DE_5m_FNF.tif\"\n",
    "corine_FNF = \"./outputs/U2018_CLC2018_V2020_3035_DE_5m_FNF.tif\"\n",
    "ger_lulc_FNF = \"./outputs/clc5_class3xx_3035_DE_5m_FNF.tif\"\n",
    "#hansen_FNF = \"./outputs/\"\n",
    "#fao_FNF = \"./outputs/\"\n",
    "\n",
    "# Runs gdal_calc.py to add the input rasters together (ABOUT 12 MIN w 4 rasters)\n",
    "consensus_map = subprocess.run(['python', \n",
    "                                gdal_calc, \n",
    "                                '-A', esa_FNF, \n",
    "                                '-B', jaxa_FNF, \n",
    "                                '-C', corine_FNF, \n",
    "                                '-D', ger_lulc_FNF, \n",
    "                                '--outfile=./outputs/test_consensus_map.tif', \n",
    "                                '--calc=A+B+C+D', \n",
    "                                '--co=COMPRESS=LZW', \n",
    "                                '--co=BIGTIFF=YES', \n",
    "                                '--NoDataValue=-9999'\n",
    "                                ],\n",
    "                                capture_output=True, \n",
    "                                text=True)\n",
    "\n",
    "print(consensus_map.stdout)\n",
    "print(consensus_map.stderr)\n"
   ]
  },
  {
   "cell_type": "markdown",
   "metadata": {},
   "source": [
    "### Step 3: Analyse Consensus Map\n",
    "\n",
    "See notes and ideas for visualisations in \"writing\" folder\n",
    "\n",
    "Create visaulisations as well (maps and graphs)"
   ]
  }
 ],
 "metadata": {
  "kernelspec": {
   "display_name": "thesis_env_conda",
   "language": "python",
   "name": "python3"
  },
  "language_info": {
   "codemirror_mode": {
    "name": "ipython",
    "version": 3
   },
   "file_extension": ".py",
   "mimetype": "text/x-python",
   "name": "python",
   "nbconvert_exporter": "python",
   "pygments_lexer": "ipython3",
   "version": "3.12.7"
  }
 },
 "nbformat": 4,
 "nbformat_minor": 2
}
