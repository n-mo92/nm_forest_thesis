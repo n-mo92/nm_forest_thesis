{
 "cells": [
  {
   "cell_type": "markdown",
   "metadata": {},
   "source": [
    "## RQ1 Forest Definition Comparisons \n",
    "\n",
    "[Add description]\n",
    "\n",
    "For analysis and comaprison steps - make visualisations!\n",
    "\n",
    "Steps\n",
    "1. Analyse & Compare FNF maps (6 maps total from steps 1 & 2) \n",
    "    1. For Germany\n",
    "    2. For Natura 2000 areas (use zonal statistics)\n",
    "2. Create *Forest Presence/Absence Consensus Map* (Sexton et al 2016 approach)\n",
    "3. Analyse Consensus Map\n",
    "    1. For Germany\n",
    "    2. For Natura 2000 areas (use zonal statistics)\n"
   ]
  },
  {
   "cell_type": "markdown",
   "metadata": {},
   "source": [
    "Maybe useful for the analysis part: zonal statistics https://github.com/shakasom/zonalstatistics\n",
    "\n",
    "or here (scroll down to \"Extraction with polygons\"): https://py.geocompx.org/05-raster-vector "
   ]
  },
  {
   "cell_type": "markdown",
   "metadata": {},
   "source": [
    "### Step 1: Analyse & Compare FNF Maps"
   ]
  },
  {
   "cell_type": "markdown",
   "metadata": {},
   "source": [
    "### Step 2: Create Forest Presence/Absence Consensus map \n",
    "\n",
    "Sexton et al 2016 approach - basically just sum the FNF maps"
   ]
  },
  {
   "cell_type": "markdown",
   "metadata": {},
   "source": [
    "### Step 3: Analyse Consensus Map\n",
    "\n",
    "See notes and ideas for visualisations in \"writing\" folder"
   ]
  }
 ],
 "metadata": {
  "kernelspec": {
   "display_name": "thesis_env_conda",
   "language": "python",
   "name": "python3"
  },
  "language_info": {
   "name": "python",
   "version": "3.12.7"
  }
 },
 "nbformat": 4,
 "nbformat_minor": 2
}
