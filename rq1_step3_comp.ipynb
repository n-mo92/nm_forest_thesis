{
 "cells": [
  {
   "cell_type": "markdown",
   "metadata": {},
   "source": [
    "## RQ1 Forest Definition Comparisons \n",
    "\n",
    "[Add description]\n",
    "\n",
    "For analysis and comaprison steps - make visualisations!\n",
    "\n",
    "Steps\n",
    "1. Analyse & Compare FNF maps (6 maps total from steps 1 & 2) \n",
    "    1. For Germany\n",
    "    2. For Natura 2000 areas (use zonal statistics)\n",
    "2. Create *Forest Presence/Absence Consensus Map* (Sexton et al 2016 approach)\n",
    "3. Analyse Consensus Map\n",
    "    1. For Germany\n",
    "    2. For Natura 2000 areas (use zonal statistics)\n"
   ]
  },
  {
   "cell_type": "code",
   "execution_count": 4,
   "metadata": {},
   "outputs": [],
   "source": [
    "# SETUP\n",
    "\n",
    "# Note: this .ipynb file depends on files & folder structures created in rq1_step1_data_prep.ipynb \n",
    "# and rq1_step2_fao_forest.ipynb\n",
    "\n",
    "# Import packages\n",
    "import subprocess\n",
    "import pickle\n",
    "import geopandas as gpd\n",
    "import pandas as pd\n",
    "\n",
    "from rasterstats import zonal_stats\n",
    "\n",
    "# Store gdal.py paths\n",
    "gdal_calc = \"./thesis_env_conda/Lib/site-packages/GDAL-3.10.1-py3.12-win-amd64.egg-info/scripts/gdal_calc.py\""
   ]
  },
  {
   "cell_type": "markdown",
   "metadata": {},
   "source": [
    "### Step 1: Analyse & Compare FNF Maps\n",
    "\n",
    "**Natura 2000 Stats**\n",
    "1. Zonal stats (sum and count) per geometry for each FNF map\n",
    "2. Use the total forest (sum) and total area (count) values to calculate percentage forest for each geometry\n",
    "3. Save above outputs (for loading later)\n",
    "\n",
    "4. Sum the per geometry sum and count values to get the total forest and total area for all Natura 2000 areas, for each FNF map\n",
    "5. Use the total forest and total area to get the percentage forest for each FNF map\n",
    "\n",
    "5. Calculate the average forest area (all Natura 2000 areas) across all FNF maps (one result)\n",
    "6. Calculate the difference from the average for each FNF map (step 4 total forest outputs minus step 5 output) \n",
    "\n",
    "**Germany Stats**\n",
    "1. Calculate the total fores (sum) and total area (count) for whole raster for each FNF map\n",
    "2. Save above outputs (for loading later)\n",
    "\n",
    "3. Use total forest (sum) and total area (count) to calculate the percentage of forest for each FNF map.\n",
    "\n",
    "4. Calculate the average forest area for Germany across all FNF maps (one result)\n",
    "5. Calculate the difference from the average for each FNF map (step 1 total forest outputs minus step 4 output) \n",
    "\n",
    "\n",
    "\n",
    "Create visaulisations as well (maps and graphs)\n",
    "\n"
   ]
  },
  {
   "cell_type": "code",
   "execution_count": null,
   "metadata": {},
   "outputs": [],
   "source": [
    "# 1: FNF NATURA ZONAL STATISTICS\n",
    "# TAKES ABOUT 175 MIN\n",
    "\n",
    "# Store paths to the FNF maps\n",
    "esa_FNF = \"./outputs/esa_lccs_class_3035_DE_5m_FNF.tif\"\n",
    "jaxa_FNF = \"./outputs/jaxa_FNF_3035_DE_5m_FNF.tif\"\n",
    "corine_FNF = \"./outputs/U2018_CLC2018_V2020_3035_DE_5m_FNF.tif\"\n",
    "ger_lulc_FNF = \"./outputs/clc5_class3xx_3035_DE_5m_FNF.tif\"\n",
    "hansen_FNF = \"./outputs/hansen_60cover_2018_3035_DE_5m_FNF.tif\"\n",
    "#fao_FNF = \"./outputs/\"\n",
    "\n",
    "# Store the path to the German Natura 2000 areas\n",
    "natura = gpd.read_file(\"./outputs/natura2000_3035_DE.shp\")\n",
    "\n",
    "# Calculate the sum and count for each Natura 2000 geometry, for each FNF map \n",
    "esaFNF_natura_stats = zonal_stats(natura, esa_FNF,\n",
    "                                  stats=['sum', 'count'],\n",
    "                                  geojson_out=True)\n",
    "jaxaFNF_natura_stats = zonal_stats(natura, jaxa_FNF,\n",
    "                                  stats=['sum', 'count'],\n",
    "                                  geojson_out=True)\n",
    "corineFNF_natura_stats = zonal_stats(natura, corine_FNF,\n",
    "                                  stats=['sum', 'count'],\n",
    "                                  geojson_out=True)\n",
    "gerlulcFNF_natura_stats = zonal_stats(natura, ger_lulc_FNF,\n",
    "                                  stats=['sum', 'count'],\n",
    "                                  geojson_out=True)\n",
    "hansenFNF_natura_stats = zonal_stats(natura, hansen_FNF,\n",
    "                                  stats=['sum', 'count'],\n",
    "                                  geojson_out=True)\n",
    "#faoFNF_natura_stats = zonal_stats(natura, fao_FNF,\n",
    "#                                  stats=['sum', 'count'],\n",
    "#                                  geojson_out=True)\n",
    "\n"
   ]
  },
  {
   "cell_type": "code",
   "execution_count": null,
   "metadata": {},
   "outputs": [],
   "source": [
    "# Store the stats as a dataframe\n",
    "esaFNF_natura_stats = pd.DataFrame(esaFNF_natura_stats)\n",
    "jaxaFNF_natura_stats = pd.DataFrame(jaxaFNF_natura_stats)\n",
    "corineFNF_natura_stats = pd.DataFrame(corineFNF_natura_stats)\n",
    "gerlulcFNF_natura_stats = pd.DataFrame(gerlulcFNF_natura_stats)\n",
    "hansenFNF_natura_stats = pd.DataFrame(hansenFNF_natura_stats)\n",
    "#faoFNF_natura_stats = pd.DataFrame(faoFNF_natura_stats)\n",
    "\n"
   ]
  },
  {
   "cell_type": "code",
   "execution_count": null,
   "metadata": {},
   "outputs": [],
   "source": [
    "print(corineFNF_natura_stats[1:10])"
   ]
  },
  {
   "cell_type": "code",
   "execution_count": 11,
   "metadata": {},
   "outputs": [],
   "source": [
    "# Save the zonal stats outputs \n",
    "pickle.dump(esaFNF_natura_stats, open(\"./outputs/esaFNF_natura_stats.p\", \"wb\"))\n",
    "pickle.dump(jaxaFNF_natura_stats, open(\"./outputs/jaxaFNF_natura_stats.p\", \"wb\"))\n",
    "pickle.dump(corineFNF_natura_stats, open(\"./outputs/corineFNF_natura_stats.p\", \"wb\"))\n",
    "pickle.dump(gerlulcFNF_natura_stats, open(\"./outputs/gerlulcFNF_natura_stats.p\", \"wb\"))\n",
    "pickle.dump(hansenFNF_natura_stats, open(\"./outputs/hansenFNF_natura_stats.p\", \"wb\"))\n",
    "#pickle.dump(faoFNF_natura_stats, open(\"./outputs/faoFNF_natura_stats.p\", \"wb\"))"
   ]
  },
  {
   "cell_type": "code",
   "execution_count": 12,
   "metadata": {},
   "outputs": [],
   "source": [
    "# Load the zonal stats outputs \n",
    "esaFNF_natura_stats = pickle.load(open(\"./outputs/esaFNF_natura_stats.p\", \"rb\"))\n",
    "jaxaFNF_natura_stats = pickle.load(open(\"./outputs/jaxaFNF_natura_stats.p\", \"rb\"))\n",
    "corineFNF_natura_stats = pickle.load(open(\"./outputs/corineFNF_natura_stats.p\", \"rb\"))\n",
    "gerlulcFNF_natura_stats = pickle.load(open(\"./outputs/gerlulcFNF_natura_stats.p\", \"rb\"))\n",
    "hansenFNF_natura_stats = pickle.load(open(\"./outputs/hansenFNF_natura_stats.p\", \"rb\"))\n",
    "#faoFNF_natura_stats = pickle.load(open(\"./outputs/faoFNF_natura_stats.p\", \"rb\"))"
   ]
  },
  {
   "cell_type": "code",
   "execution_count": null,
   "metadata": {},
   "outputs": [],
   "source": [
    "print(corineFNF_natura_stats[1:10])"
   ]
  },
  {
   "cell_type": "markdown",
   "metadata": {},
   "source": [
    "### Step 2: Create Forest Presence/Absence Consensus map \n",
    "\n",
    "Sexton et al 2016 approach - basically just sum the FNF maps"
   ]
  },
  {
   "cell_type": "code",
   "execution_count": null,
   "metadata": {},
   "outputs": [],
   "source": [
    "# 2: FOREST CONSENSUS MAP\n",
    "\n",
    "# Store paths to the FNF maps\n",
    "esa_FNF = \"./outputs/esa_lccs_class_3035_DE_5m_FNF.tif\"\n",
    "jaxa_FNF = \"./outputs/jaxa_FNF_3035_DE_5m_FNF.tif\"\n",
    "corine_FNF = \"./outputs/U2018_CLC2018_V2020_3035_DE_5m_FNF.tif\"\n",
    "ger_lulc_FNF = \"./outputs/clc5_class3xx_3035_DE_5m_FNF.tif\"\n",
    "hansen_FNF = \"./outputs/hansen_60cover_2018_3035_DE_5m_FNF.tif\"\n",
    "#fao_FNF = \"./outputs/\"\n",
    "\n",
    "# Runs gdal_calc.py to add the input rasters together (ABOUT 15 MIN w 5 rasters)\n",
    "consensus_map = subprocess.run(['python', \n",
    "                                gdal_calc, \n",
    "                                '-A', esa_FNF, \n",
    "                                '-B', jaxa_FNF, \n",
    "                                '-C', corine_FNF, \n",
    "                                '-D', ger_lulc_FNF, \n",
    "                                '-E', hansen_FNF,\n",
    "                                '--outfile=./outputs/test_consensus_map_v2.tif', \n",
    "                                '--calc=A+B+C+D+E', \n",
    "                                '--co=COMPRESS=LZW', \n",
    "                                '--co=BIGTIFF=YES', \n",
    "                                '--NoDataValue=-9999'\n",
    "                                ],\n",
    "                                capture_output=True, \n",
    "                                text=True)\n",
    "\n",
    "print(consensus_map.stdout)\n",
    "print(consensus_map.stderr)\n"
   ]
  },
  {
   "cell_type": "markdown",
   "metadata": {},
   "source": [
    "### Step 3: Analyse Consensus Map\n",
    "\n",
    "See notes and ideas for visualisations in \"writing\" folder\n",
    "\n",
    "Create visaulisations as well (maps and graphs)"
   ]
  }
 ],
 "metadata": {
  "kernelspec": {
   "display_name": "thesis_env_conda",
   "language": "python",
   "name": "python3"
  },
  "language_info": {
   "codemirror_mode": {
    "name": "ipython",
    "version": 3
   },
   "file_extension": ".py",
   "mimetype": "text/x-python",
   "name": "python",
   "nbconvert_exporter": "python",
   "pygments_lexer": "ipython3",
   "version": "3.12.7"
  }
 },
 "nbformat": 4,
 "nbformat_minor": 2
}
