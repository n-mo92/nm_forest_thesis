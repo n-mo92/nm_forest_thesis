{
 "cells": [
  {
   "cell_type": "markdown",
   "metadata": {},
   "source": [
    "## RQ1 Forest Definition Comparison \n",
    "\n",
    "[Add description]\n",
    "\n",
    "Basic steps:\n",
    "- Load forest definitions maps from Step 1 AND Step 2\n",
    "- Rasterise to common resolution\n",
    "- reclassify to FNF\n",
    "- comparative statistics\n",
    "- Sexton et al 2016 approach (sum pixels)"
   ]
  }
 ],
 "metadata": {
  "kernelspec": {
   "display_name": "thesis_env",
   "language": "python",
   "name": "python3"
  },
  "language_info": {
   "name": "python",
   "version": "3.12.7"
  }
 },
 "nbformat": 4,
 "nbformat_minor": 2
}
