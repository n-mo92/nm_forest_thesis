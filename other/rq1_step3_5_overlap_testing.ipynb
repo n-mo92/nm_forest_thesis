{
 "cells": [
  {
   "cell_type": "markdown",
   "id": "e6131ef8",
   "metadata": {},
   "source": [
    "#### Overlap testing\n",
    "\n",
    "In order to address the problems with double-counting, I need to remove the areas of overlap between Natura 2000 sites. In this file, I perform some testing to make sure I remove the overlaps correctly.\n",
    "\n",
    "My plan for removing the overlaps is basically to dissolve all the polygon boundaries to create to make one big polygon with no overlaps. I then 'explode' the geometry so that the massive multi-part geomtry is separate into individual polygons for each part. This step is needed because the big dissolved multi-part polygon is too big to calculate zonal statistics.\n",
    "\n",
    "My worry with this approach is that because I would end up creating smaller polygons than in the original dataset (the original dataset includes some multi-part Natura sites), this may mean the area gets calculated differently. In theory I think it should not matter, but I would like to check.\n",
    "\n",
    "To check for this issue, I do the following steps:\n",
    "1) Create a test site which is a multi-part polygon with some areas/parts that are very small (small enough not to return results) -- I do this part manually in QGIS\n",
    "2) Calculate the zonal statistics for this test site in it's original form\n",
    "3) Separate ('explode') the test site into individual polygons\n",
    "4) Calculate the zonal statistics for the separated/exploded geometries (and sum them up)\n",
    "5) Compare the two sets of zonal statistics\n",
    "\n",
    "My hope is that these would return the same results, even though the second exploded geometry set might return some empty results for the smaller polygons. I think these would also be missing from the result for the multi-part geometry set, but it just wouldn't be clear from the results because you only get a single result back for the whole multi-part polygon. If the results match then I think the dissolve/explode approach to remove the overlaps is a good way forward. "
   ]
  },
  {
   "cell_type": "code",
   "execution_count": 1,
   "id": "20a5c37c",
   "metadata": {},
   "outputs": [],
   "source": [
    "# SETUP\n",
    "\n",
    "from rasterstats import zonal_stats\n",
    "import geopandas as gpd\n",
    "\n",
    "# Because I'm working in the 'other' folder, I need to store the main directory info\n",
    "main_dir = \"C:/Users/ninam/Documents/UZH/04_Thesis/code/nm_forest_thesis/\""
   ]
  },
  {
   "cell_type": "code",
   "execution_count": 9,
   "id": "1354ef3f",
   "metadata": {},
   "outputs": [],
   "source": [
    "# CALC MULTIPART STATS\n",
    "\n",
    "# Load test site (multi-part geom with 1 main part and 2 small parts)\n",
    "test_site = gpd.read_file(main_dir + \"processing/test_site_multipart.shp\")\n",
    "\n",
    "# Load in ESA FNF (for testing)\n",
    "esa_FNF = main_dir + \"outputs/esa_lccs_class_3035_DE_5m_2018_FNF.tif\"\n",
    "\n",
    "# Calculate the zonal stats (count only - just need the total area)\n",
    "test_site_multipart_stats = zonal_stats(test_site, esa_FNF, stats=['count'],\n",
    "                                        geojson_out=True)"
   ]
  },
  {
   "cell_type": "code",
   "execution_count": null,
   "id": "5042eb7b",
   "metadata": {},
   "outputs": [],
   "source": [
    "# FORMAT RESULTS\n",
    "\n",
    "# Load as feature collection\n",
    "test_site_multipart_stats_fc = {\"type\": \"FeatureCollection\",\"features\": test_site_multipart_stats}\n",
    "\n",
    "# Extract features\n",
    "test_site_multipart_stats_features = test_site_multipart_stats_fc[\"features\"]\n",
    "\n",
    "# Check results\n",
    "#test_site_multipart_stats_features"
   ]
  },
  {
   "cell_type": "code",
   "execution_count": 12,
   "id": "5bb52e93",
   "metadata": {},
   "outputs": [
    {
     "name": "stdout",
     "output_type": "stream",
     "text": [
      "Total area (ha) for single multipart geom =  22.915\n"
     ]
    }
   ],
   "source": [
    "# EXTRACT & CALC TOTAL AREA (MULTIPART)\n",
    "\n",
    "# Create empty lists for storing the area counts\n",
    "multipart_count_list = []\n",
    "\n",
    "# Fill the list with all the area counts\n",
    "for row in test_site_multipart_stats_features:\n",
    "    multipart_count_list.append(row['properties']['count'])\n",
    "\n",
    "# Sum all the values and convert to area (25m2 pixel size = 0.0025 ha)\n",
    "multipart_total_area_ha = sum(multipart_count_list) * 0.0025\n",
    "\n",
    "# Show the result\n",
    "print(\"Total area (ha) for single multipart geom = \", multipart_total_area_ha)"
   ]
  },
  {
   "cell_type": "code",
   "execution_count": 13,
   "id": "72169a83",
   "metadata": {},
   "outputs": [],
   "source": [
    "# CREATE EXPLODED VERSION & CALC STATS\n",
    "\n",
    "# Explode the multipart\n",
    "test_site_exp = test_site.explode()\n",
    "\n",
    "# Calculate the zonal stats (count only - just need the total area)\n",
    "test_site_exp_stats = zonal_stats(test_site_exp, esa_FNF, stats=['count'],\n",
    "                                  geojson_out=True)"
   ]
  },
  {
   "cell_type": "code",
   "execution_count": 15,
   "id": "3210771d",
   "metadata": {},
   "outputs": [
    {
     "data": {
      "text/plain": [
       "[{'id': '0',\n",
       "  'type': 'Feature',\n",
       "  'properties': {'id': 1, 'count': 0},\n",
       "  'geometry': {'type': 'Polygon',\n",
       "   'coordinates': (((4415740.052809142, 3132526.347389419),\n",
       "     (4415741.647363373, 3132525.721678265),\n",
       "     (4415741.647363373, 3132525.721678265),\n",
       "     (4415742.515285296, 3132523.8041763413),\n",
       "     (4415741.869389911, 3132522.1894378792),\n",
       "     (4415739.972072219, 3132521.3618844175),\n",
       "     (4415738.357333756, 3132522.007779802),\n",
       "     (4415737.549964526, 3132523.8647290333),\n",
       "     (4415738.074754526, 3132525.4794674953),\n",
       "     (4415740.052809142, 3132526.347389419)),)},\n",
       "  'bbox': (4415737.549964526,\n",
       "   3132521.3618844175,\n",
       "   4415742.515285296,\n",
       "   3132526.347389419)},\n",
       " {'id': '0',\n",
       "  'type': 'Feature',\n",
       "  'properties': {'id': 1, 'count': 4},\n",
       "  'geometry': {'type': 'Polygon',\n",
       "   'coordinates': (((4431109.052754132, 3131860.590721509),\n",
       "     (4431119.104501058, 3131860.954037663),\n",
       "     (4431119.306343365, 3131850.98302766),\n",
       "     (4431109.294964901, 3131850.660079967),\n",
       "     (4431109.052754132, 3131860.590721509)),)},\n",
       "  'bbox': (4431109.052754132,\n",
       "   3131850.660079967,\n",
       "   4431119.306343365,\n",
       "   3131860.954037663)},\n",
       " {'id': '0',\n",
       "  'type': 'Feature',\n",
       "  'properties': {'id': 1, 'count': 9162},\n",
       "  'geometry': {'type': 'Polygon',\n",
       "   'coordinates': (((4433773.290479612, 3119177.6678396957),\n",
       "     (4433792.182919616, 3119176.860470461),\n",
       "     (4433814.1433627, 3119167.8179350737),\n",
       "     (4433855.480667328, 3119155.545922762),\n",
       "     (4433896.817971958, 3119151.670550453),\n",
       "     (4433943.322439665, 3119158.129504301),\n",
       "     (4433956.240347361, 3119161.358981225),\n",
       "     (4433990.472802757, 3119170.401516613),\n",
       "     (4434009.203768917, 3119175.5686796913),\n",
       "     (4434036.33137508, 3119184.611215079),\n",
       "     (4434063.458981243, 3119193.007855082),\n",
       "     (4434077.668679709, 3119202.0503904694),\n",
       "     (4434107.37986741, 3119220.1354612443),\n",
       "     (4434122.235461262, 3119230.4697874016),\n",
       "     (4434159.051498197, 3119254.3679166404),\n",
       "     (4434226.224618219, 3119313.790292044),\n",
       "     (4434272.729085927, 3119344.7932705157),\n",
       "     (4434274.020876696, 3119270.5153012606),\n",
       "     (4434317.941762865, 3119277.620150494),\n",
       "     (4434348.944741337, 3119284.7249997267),\n",
       "     (4434409.013012125, 3119306.039547426),\n",
       "     (4434446.474944445, 3119307.977233581),\n",
       "     (4434485.874562919, 3119321.5410366617),\n",
       "     (4434534.962612166, 3119379.671621296),\n",
       "     (4434598.260359879, 3119373.8585628327),\n",
       "     (4434702.895412221, 3119383.5469936053),\n",
       "     (4434738.419658386, 3119370.6290859086),\n",
       "     (4434695.790562987, 3119351.252224364),\n",
       "     (4434656.3909445135, 3119336.396630513),\n",
       "     (4434604.0734183425, 3119315.0820828136),\n",
       "     (4434563.382009098, 3119281.495522803),\n",
       "     (4434550.464101402, 3119265.9940335676),\n",
       "     (4434527.2118675485, 3119240.8041135594),\n",
       "     (4434510.418587543, 3119203.988076624),\n",
       "     (4434507.189110619, 3119143.2739104507),\n",
       "     (4434514.293959851, 3119087.7269073557),\n",
       "     (4434639.597664508, 3119091.6022796645),\n",
       "     (4434637.659978353, 3119207.2175535485),\n",
       "     (4434824.323744568, 3119213.030612012),\n",
       "     (4434843.700606112, 3119173.6309935376),\n",
       "     (4434872.120003044, 3119151.6705504535),\n",
       "     (4434866.952839965, 3119069.6418365804),\n",
       "     (4434830.782698415, 3118970.1739473175),\n",
       "     (4434799.779719943, 3118915.272839607),\n",
       "     (4434784.278230708, 3118901.063141141),\n",
       "     (4434771.360323011, 3118888.145233445),\n",
       "     (4434759.734206084, 3118881.0403842116),\n",
       "     (4434728.731227613, 3118857.788150358),\n",
       "     (4434713.875633762, 3118874.5814303635),\n",
       "     (4434731.960704537, 3118893.312396523),\n",
       "     (4434732.606599921, 3118897.1877688323),\n",
       "     (4434753.275252236, 3118917.8564211465),\n",
       "     (4434763.609578393, 3118943.6922365394),\n",
       "     (4434750.691670697, 3118959.83962116),\n",
       "     (4434739.06555377, 3118965.6526796236),\n",
       "     (4434703.541307605, 3118964.360888854),\n",
       "     (4434657.036839897, 3118946.275818079),\n",
       "     (4434616.991326038, 3118928.190747304),\n",
       "     (4434577.591707564, 3118899.7713503717),\n",
       "     (4434559.506636789, 3118871.351953441),\n",
       "     (4434491.041725998, 3118884.915756522),\n",
       "     (4434491.36467369, 3118949.828242697),\n",
       "     (4434492.333516767, 3119005.0522980993),\n",
       "     (4434491.041725998, 3119049.619079652),\n",
       "     (4434480.061504455, 3119075.4548950447),\n",
       "     (4434466.497701374, 3119101.290710438),\n",
       "     (4434443.8913629055, 3119122.605258137),\n",
       "     (4434413.534279819, 3119130.356002755),\n",
       "     (4434385.760778272, 3119132.9395842943),\n",
       "     (4434359.279067493, 3119128.4183166004),\n",
       "     (4434339.902205949, 3119114.2086181343),\n",
       "     (4434313.420495171, 3119087.081011972),\n",
       "     (4434308.253332092, 3119057.36982427),\n",
       "     (4434301.148482859, 3119005.0522980993),\n",
       "     (4434303.732064399, 3118951.4429811584),\n",
       "     (4434297.919005935, 3118919.1482119174),\n",
       "     (4434278.542144391, 3118919.794107302),\n",
       "     (4434270.145504388, 3118930.774328844),\n",
       "     (4434265.624236695, 3118975.341110397),\n",
       "     (4434266.270132079, 3119003.1146119446),\n",
       "     (4434266.270132077, 3119032.1799042625),\n",
       "     (4434230.099990527, 3119031.211061185),\n",
       "     (4434179.720150512, 3119028.304531955),\n",
       "     (4434112.708504336, 3119031.534008879),\n",
       "     (4433977.716368907, 3119023.137368877),\n",
       "     (4433974.002470445, 3119036.2167504192),\n",
       "     (4433956.7247689, 3119052.687082731),\n",
       "     (4433926.206211967, 3119073.355735046),\n",
       "     (4433884.707433493, 3119095.9620735147),\n",
       "     (4433851.928242712, 3119113.078301213),\n",
       "     (4433823.185898088, 3119122.1208366007),\n",
       "     (4433790.568181154, 3119138.5911689135),\n",
       "     (4433761.987310378, 3119150.540233533),\n",
       "     (4433758.434885761, 3119165.3958273837),\n",
       "     (4433763.117627301, 3119174.115415079),\n",
       "     (4433773.290479612, 3119177.6678396957)),)},\n",
       "  'bbox': (4433758.434885761,\n",
       "   3118857.788150358,\n",
       "   4434872.120003044,\n",
       "   3119383.5469936053)}]"
      ]
     },
     "execution_count": 15,
     "metadata": {},
     "output_type": "execute_result"
    }
   ],
   "source": [
    "# FORMAT RESULTS\n",
    "\n",
    "# Load as feature collection\n",
    "test_site_exp_stats_fc = {\"type\": \"FeatureCollection\",\"features\": test_site_exp_stats}\n",
    "\n",
    "# Extract features\n",
    "test_site_exp_stats_features = test_site_exp_stats_fc[\"features\"]\n",
    "\n",
    "# Check results\n",
    "test_site_exp_stats_features"
   ]
  },
  {
   "cell_type": "markdown",
   "id": "efe38736",
   "metadata": {},
   "source": [
    "The printout above shows that the first geometry does not return any results (count = 0) but the other geoms do."
   ]
  },
  {
   "cell_type": "code",
   "execution_count": 16,
   "id": "5d9f1f2c",
   "metadata": {},
   "outputs": [
    {
     "name": "stdout",
     "output_type": "stream",
     "text": [
      "Total area (ha) for exploded geoms =  22.915\n"
     ]
    }
   ],
   "source": [
    "# EXTRACT & CALC TOTAL AREA (MULTIPART)\n",
    "\n",
    "# Create empty list for storing the area counts\n",
    "exp_count_list = []\n",
    "\n",
    "# Fill the list with all the area counts\n",
    "for row in test_site_exp_stats_features:\n",
    "    exp_count_list.append(row['properties']['count'])\n",
    "\n",
    "# Sum all the values and convert to area (25m2 pixel size = 0.0025 ha)\n",
    "exploded_total_area_ha = sum(exp_count_list) * 0.0025\n",
    "\n",
    "# Show the result\n",
    "print(\"Total area (ha) for exploded geoms = \", exploded_total_area_ha)"
   ]
  },
  {
   "cell_type": "markdown",
   "id": "dd33dc42",
   "metadata": {},
   "source": [
    "The results are exactly the same - as hoped/expected. So the by dissolve the geometries I can get rid of the overlaps, and by exploding to single geometries I can get the zonal statistics to run without affecting the results. "
   ]
  },
  {
   "cell_type": "markdown",
   "id": "06293826",
   "metadata": {},
   "source": [
    "#### One additional test:\n",
    "\n",
    "1) Calculate the zonal stats on the esa fnf map using the dissolve/explode approach for the Natura sites and sum up the count stats (to get the area of analysis)\n",
    "2) In QGIS, calculate dissolve the Natura sites (but don't explode) and clip the sites to the CORINE footprint to get the approximate same area of analysis from step 1. Calculate the total area of this dissolved/clipped area\n",
    "3) Compare results. They won't be exactly the same as in step 1 it's based of the pixel counts of the underlying raster, but in step 2 it's based on an area calculation from the vector... but I think they should be similar. "
   ]
  },
  {
   "cell_type": "code",
   "execution_count": 2,
   "id": "60902835",
   "metadata": {},
   "outputs": [],
   "source": [
    "# CREATE THE DISSOLVE/EXPLODE GEOMS\n",
    "\n",
    "# Load Natura shp\n",
    "natura = gpd.read_file(main_dir + \"outputs/natura2000_3035_DE.shp\", \n",
    "                       columns=[\"SITECODE\", \"SITENAME\", \"MS\", \"SITETYPE\"])\n",
    "\n",
    "# Dissolve all geometries to make one big polygon (with no overlaps)\n",
    "big_dissolved = natura.dissolve()\n",
    "\n",
    "# Explore multi-part polygon into individual polygons\n",
    "# This is needed because the big_dissolved polygon is too big to calc zonal stats\n",
    "natura_wo_overlap = big_dissolved.explode()\n",
    "\n",
    "# Save non-overlapping geoms to shp\n",
    "natura_wo_overlap.to_file(main_dir + \"processing/natura_wo_overlap_test.shp\")"
   ]
  },
  {
   "cell_type": "code",
   "execution_count": 5,
   "id": "4806f8b6",
   "metadata": {},
   "outputs": [],
   "source": [
    "# CALC ZONAL STATS FOR DISSOLVE/EXPLODE GEOMS\n",
    "\n",
    "# Load in dissolved/exploded geoms\n",
    "natura_wo_overlap = gpd.read_file(main_dir + \"processing/natura_wo_overlap_test.shp\")\n",
    "\n",
    "# Load in ESA FNF (for testing)\n",
    "esa_FNF = main_dir + \"outputs/esa_lccs_class_3035_DE_5m_2018_FNF.tif\"\n",
    "\n",
    "# Calculate the zonal stats (count only - just need the total area)\n",
    "esaFNF_natura_wo_overlaps_stats = zonal_stats(natura_wo_overlap, esa_FNF,\n",
    "                                              stats=['count'],\n",
    "                                              geojson_out=True)"
   ]
  },
  {
   "cell_type": "code",
   "execution_count": null,
   "id": "2560b008",
   "metadata": {},
   "outputs": [],
   "source": [
    "# FORMAT RESULTS\n",
    "\n",
    "# Load as feature collection\n",
    "esaFNF_natura_wo_overlaps_stats_fc = {\"type\": \"FeatureCollection\",\"features\": esaFNF_natura_wo_overlaps_stats}\n",
    "\n",
    "# Extract features\n",
    "esa_wo_overlap_features = esaFNF_natura_wo_overlaps_stats_fc[\"features\"]\n",
    "\n",
    "# Check results\n",
    "#esa_wo_overlap_features"
   ]
  },
  {
   "cell_type": "code",
   "execution_count": 8,
   "id": "57af5388",
   "metadata": {},
   "outputs": [
    {
     "name": "stdout",
     "output_type": "stream",
     "text": [
      "Total area (ha) for exploded/dissolved geoms =  5519331.68\n"
     ]
    }
   ],
   "source": [
    "# EXTRACT & CALC TOTAL AREA\n",
    "\n",
    "# Create empty lists for storing the area counts\n",
    "count_list = []\n",
    "\n",
    "# Fill the list with all the area counts\n",
    "for row in esa_wo_overlap_features:\n",
    "    count_list.append(row['properties']['count'])\n",
    "\n",
    "# Sum all the values and convert to area (25m2 pixel size = 0.0025 ha)\n",
    "esa_wo_overlap_total_area_ha = sum(count_list) * 0.0025\n",
    "\n",
    "# Show the result\n",
    "print(\"Total area (ha) for exploded/dissolved geoms = \", esa_wo_overlap_total_area_ha)"
   ]
  },
  {
   "cell_type": "markdown",
   "id": "a4708a48",
   "metadata": {},
   "source": [
    "The results for the dissolved (but not exploded) test in QGIS was a total area of 55193.367 km2 or about 5.5 million ha. The two results are almost identical! This seems to confirm that dissolving and exploding achieves the same outcome as just dissolving - in other words, the exploding part doesn't effect the results by making the geometries too small. \n",
    "\n",
    "This area corresponds to the total area assessed for this thesis **without counting overlaps**."
   ]
  }
 ],
 "metadata": {
  "kernelspec": {
   "display_name": "Python 3",
   "language": "python",
   "name": "python3"
  },
  "language_info": {
   "codemirror_mode": {
    "name": "ipython",
    "version": 3
   },
   "file_extension": ".py",
   "mimetype": "text/x-python",
   "name": "python",
   "nbconvert_exporter": "python",
   "pygments_lexer": "ipython3",
   "version": "3.12.7"
  }
 },
 "nbformat": 4,
 "nbformat_minor": 5
}
