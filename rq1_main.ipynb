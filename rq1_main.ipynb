{
 "cells": [
  {
   "cell_type": "markdown",
   "metadata": {},
   "source": [
    "### RQ1: What is forest? \n",
    "\n",
    "[Add description]\n",
    "\n",
    "Basic steps:\n",
    "- Load all datasets\n",
    "- Rasterise to common resolution\n",
    "- reclassify to FNF\n",
    "- comparative statistics\n",
    "- Sexton approach (sum pixels)"
   ]
  }
 ],
 "metadata": {
  "kernelspec": {
   "display_name": "thesis_env",
   "language": "python",
   "name": "python3"
  },
  "language_info": {
   "name": "python",
   "version": "3.12.7"
  }
 },
 "nbformat": 4,
 "nbformat_minor": 2
}
