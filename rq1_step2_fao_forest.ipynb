{
 "cells": [
  {
   "cell_type": "markdown",
   "metadata": {},
   "source": [
    "## RQ1 Creating FAO forest map\n",
    "\n",
    "[Add Description]\n",
    "\n",
    "Need to create a FAO Definition Approximation following the steps from Johnson et al (2023)\n",
    "\n",
    "Steps:\n",
    "1. Data Preparation\n",
    "    1. Clip the 5 GER LULC shapefiles to the Natura 2000 areas\n",
    "    2. Merge the clipped 5 GER LULC shapefiles into 1 shapefile\n",
    "    3. Vectorise the clipped 5m JAXA raster\n",
    "2. Intersect JAXA and GER LULC shapefiles\n",
    "3. Conditional Reclassing\n",
    "4. Convert to 5m raster"
   ]
  },
  {
   "cell_type": "markdown",
   "metadata": {},
   "source": [
    "### Step 1: Data Preparation\n",
    "\n",
    "#### Step 1.1: Clip GER LULC SHPs\n",
    "\n",
    "In the rq1_step1_data_prep.ipynb file, I clipped all the output **rasters** to the Germany Natura 2000 areas - in this first data prep step, I do the same for the GER LULC shapefiles, as I will mainly be working with vector data for creating this FAO-aligned forest map. \n"
   ]
  },
  {
   "cell_type": "code",
   "execution_count": null,
   "metadata": {},
   "outputs": [],
   "source": []
  },
  {
   "cell_type": "markdown",
   "metadata": {},
   "source": [
    "This doc has a raster to vector section: https://py.geocompx.org/05-raster-vector"
   ]
  }
 ],
 "metadata": {
  "kernelspec": {
   "display_name": "thesis_env_conda",
   "language": "python",
   "name": "python3"
  },
  "language_info": {
   "name": "python",
   "version": "3.12.7"
  }
 },
 "nbformat": 4,
 "nbformat_minor": 2
}
