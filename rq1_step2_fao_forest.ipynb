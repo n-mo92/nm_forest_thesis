{
 "cells": [
  {
   "cell_type": "markdown",
   "metadata": {},
   "source": [
    "## RQ1 Creating FAO forest map\n",
    "\n",
    "[Add Description]\n",
    "\n",
    "Need to create a FAO Definition Approximation following the steps from Johnson et al (2023)\n",
    "\n",
    "Steps:\n",
    "1. Data Preparation\n",
    "    1. Clip the 5 GER LULC shapefiles to the Natura 2000 areas\n",
    "    2. Merge the clipped 5 GER LULC shapefiles into 1 shapefile\n",
    "    3. Vectorise the clipped 5m JAXA raster\n",
    "2. Intersect JAXA and GER LULC shapefiles\n",
    "3. Conditional Reclassing\n",
    "4. Convert to 5m raster"
   ]
  },
  {
   "cell_type": "code",
   "execution_count": 9,
   "metadata": {},
   "outputs": [],
   "source": [
    "# SETUP\n",
    "\n",
    "# Note: this .ipynb file depends on files & folder structures created in rq1_step1_data_prep.ipynb\n",
    "\n",
    "# Import packages\n",
    "import glob\n",
    "import os\n",
    "\n",
    "import geopandas as gpd\n"
   ]
  },
  {
   "cell_type": "markdown",
   "metadata": {},
   "source": [
    "### Step 1: Data Preparation\n",
    "\n",
    "#### Step 1.1: Clip GER LULC SHPs\n",
    "\n",
    "In the rq1_step1_data_prep.ipynb file, I clipped all the output **rasters** to the Germany Natura 2000 areas - in this first data prep step, I do the same for the GER LULC shapefiles, as I will mainly be working with vector data for creating this FAO-aligned forest map. \n"
   ]
  },
  {
   "cell_type": "code",
   "execution_count": 8,
   "metadata": {},
   "outputs": [
    {
     "ename": "TypeError",
     "evalue": "'gdf' should be GeoDataFrame or GeoSeries, got <class 'str'>",
     "output_type": "error",
     "traceback": [
      "\u001b[1;31m---------------------------------------------------------------------------\u001b[0m",
      "\u001b[1;31mTypeError\u001b[0m                                 Traceback (most recent call last)",
      "Cell \u001b[1;32mIn[8], line 11\u001b[0m\n\u001b[0;32m      7\u001b[0m ger_lulc_paths \u001b[38;5;241m=\u001b[39m glob\u001b[38;5;241m.\u001b[39mglob(\u001b[38;5;124m'\u001b[39m\u001b[38;5;124m./processing/clc5_class*xx_3035_DE.shp\u001b[39m\u001b[38;5;124m'\u001b[39m)\n\u001b[0;32m      9\u001b[0m ger_lulc_paths[\u001b[38;5;241m1\u001b[39m]\n\u001b[1;32m---> 11\u001b[0m clip_test \u001b[38;5;241m=\u001b[39m \u001b[43mgpd\u001b[49m\u001b[38;5;241;43m.\u001b[39;49m\u001b[43mclip\u001b[49m\u001b[43m(\u001b[49m\u001b[43mger_lulc_paths\u001b[49m\u001b[43m[\u001b[49m\u001b[38;5;241;43m1\u001b[39;49m\u001b[43m]\u001b[49m\u001b[43m,\u001b[49m\u001b[43m \u001b[49m\u001b[43mnatura_de_gdf\u001b[49m\u001b[43m)\u001b[49m\n",
      "File \u001b[1;32mc:\\Users\\ninam\\Documents\\UZH\\04_Thesis\\code\\nm_forest_thesis\\thesis_env_conda\\Lib\\site-packages\\geopandas\\tools\\clip.py:158\u001b[0m, in \u001b[0;36mclip\u001b[1;34m(gdf, mask, keep_geom_type, sort)\u001b[0m\n\u001b[0;32m     93\u001b[0m \u001b[38;5;250m\u001b[39m\u001b[38;5;124;03m\"\"\"Clip points, lines, or polygon geometries to the mask extent.\u001b[39;00m\n\u001b[0;32m     94\u001b[0m \n\u001b[0;32m     95\u001b[0m \u001b[38;5;124;03mBoth layers must be in the same Coordinate Reference System (CRS).\u001b[39;00m\n\u001b[1;32m   (...)\u001b[0m\n\u001b[0;32m    155\u001b[0m \u001b[38;5;124;03m(7, 8)\u001b[39;00m\n\u001b[0;32m    156\u001b[0m \u001b[38;5;124;03m\"\"\"\u001b[39;00m\n\u001b[0;32m    157\u001b[0m \u001b[38;5;28;01mif\u001b[39;00m \u001b[38;5;129;01mnot\u001b[39;00m \u001b[38;5;28misinstance\u001b[39m(gdf, (GeoDataFrame, GeoSeries)):\n\u001b[1;32m--> 158\u001b[0m     \u001b[38;5;28;01mraise\u001b[39;00m \u001b[38;5;167;01mTypeError\u001b[39;00m(\n\u001b[0;32m    159\u001b[0m         \u001b[38;5;124m\"\u001b[39m\u001b[38;5;124m'\u001b[39m\u001b[38;5;124mgdf\u001b[39m\u001b[38;5;124m'\u001b[39m\u001b[38;5;124m should be GeoDataFrame or GeoSeries, got \u001b[39m\u001b[38;5;132;01m{}\u001b[39;00m\u001b[38;5;124m\"\u001b[39m\u001b[38;5;241m.\u001b[39mformat(\u001b[38;5;28mtype\u001b[39m(gdf))\n\u001b[0;32m    160\u001b[0m     )\n\u001b[0;32m    162\u001b[0m mask_is_list_like \u001b[38;5;241m=\u001b[39m _mask_is_list_like_rectangle(mask)\n\u001b[0;32m    163\u001b[0m \u001b[38;5;28;01mif\u001b[39;00m (\n\u001b[0;32m    164\u001b[0m     \u001b[38;5;129;01mnot\u001b[39;00m \u001b[38;5;28misinstance\u001b[39m(mask, (GeoDataFrame, GeoSeries, Polygon, MultiPolygon))\n\u001b[0;32m    165\u001b[0m     \u001b[38;5;129;01mand\u001b[39;00m \u001b[38;5;129;01mnot\u001b[39;00m mask_is_list_like\n\u001b[0;32m    166\u001b[0m ):\n",
      "\u001b[1;31mTypeError\u001b[0m: 'gdf' should be GeoDataFrame or GeoSeries, got <class 'str'>"
     ]
    }
   ],
   "source": [
    "# CLIP GER LULC SHPS\n",
    "\n",
    "# Store paths to reprojected GER LULC SHPs in a list\n",
    "ger_lulc_paths = glob.glob('./processing/clc5_class*xx_3035_DE.shp')\n",
    "\n",
    "# Create a function which XXXX\n",
    "def clip_shp_to_natura(input_paths):\n",
    "    # Load Germany Natura 2000 areas\n",
    "    natura_de_gdf = gpd.read_file(\"./outputs/natura2000_3035_DE.shp\")\n",
    "    # Iterate through the GER LULC shp paths \n",
    "    for path in input_paths:\n",
    "        # Open the shp for each path \n",
    "        ger_lulc_shp = gpd.read_file(path)\n",
    "        # Clip input GER LULC shp to Natura shp\n",
    "        shp_clip  = gpd.clip(ger_lulc_shp, natura_de_gdf)\n",
    "\n",
    "        # For output file naming: extract the input file name (with extension)\n",
    "        name_w_ext = os.path.split(path)[1] \n",
    "        # For output file naming: remove extension from input file name \n",
    "        name_wo_ext = os.path.splitext(name_w_ext)[0]\n",
    "        # For output file naming: create the new name for clipped shp\n",
    "        new_name = name_wo_ext + \"_clipped.shp\"\n",
    "\n",
    "        # Write the reprojected shp to the processing folder\n",
    "        shp_clip.to_file('./processing/' + new_name)\n",
    "\n",
    "# Run the function for the German LULC zipped shps\n",
    "clip_shp_to_natura(ger_lulc_paths)\n"
   ]
  },
  {
   "cell_type": "markdown",
   "metadata": {},
   "source": [
    "This doc has a raster to vector section: https://py.geocompx.org/05-raster-vector"
   ]
  }
 ],
 "metadata": {
  "kernelspec": {
   "display_name": "thesis_env_conda",
   "language": "python",
   "name": "python3"
  },
  "language_info": {
   "codemirror_mode": {
    "name": "ipython",
    "version": 3
   },
   "file_extension": ".py",
   "mimetype": "text/x-python",
   "name": "python",
   "nbconvert_exporter": "python",
   "pygments_lexer": "ipython3",
   "version": "3.12.7"
  }
 },
 "nbformat": 4,
 "nbformat_minor": 2
}
