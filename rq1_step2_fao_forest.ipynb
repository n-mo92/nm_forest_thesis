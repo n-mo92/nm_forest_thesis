{
 "cells": [
  {
   "cell_type": "markdown",
   "metadata": {},
   "source": [
    "## RQ1 Creating FAO forest map\n",
    "\n",
    "[Add Description]\n",
    "\n",
    "Need to create a FAO Definition Approximation following the steps from Johnson et al (2023)"
   ]
  }
 ],
 "metadata": {
  "kernelspec": {
   "display_name": "thesis_env",
   "language": "python",
   "name": "python3"
  },
  "language_info": {
   "name": "python",
   "version": "3.12.7"
  }
 },
 "nbformat": 4,
 "nbformat_minor": 2
}
