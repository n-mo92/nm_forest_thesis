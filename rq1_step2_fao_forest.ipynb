{
 "cells": [
  {
   "cell_type": "markdown",
   "metadata": {},
   "source": [
    "## RQ1 Creating FAO forest map\n",
    "\n",
    "[Add Description]\n",
    "\n",
    "Need to create a FAO Definition Approximation following the steps from Johnson et al (2023)\n",
    "\n",
    "Steps:\n",
    "1. Data Preparation\n",
    "    1. ~~Clip the 5 GER LULC shapefiles to the Natura 2000 areas~~ (SKIP FOR NOW)\n",
    "    2. Merge the 3 required GER LULC shapefiles into 1 shapefile\n",
    "    3. Reclassify & vectorise the 5m JAXA raster\n",
    "2. Intersect JAXA and GER LULC shapefiles\n",
    "3. Conditional Reclassing\n",
    "4. Convert to 5m raster"
   ]
  },
  {
   "cell_type": "code",
   "execution_count": 1,
   "metadata": {},
   "outputs": [],
   "source": [
    "# SETUP\n",
    "\n",
    "# Note: this .ipynb file depends on files & folder structures created in rq1_step1_data_prep.ipynb\n",
    "\n",
    "# Import packages\n",
    "import glob\n",
    "import os\n",
    "\n",
    "import pandas as pd\n",
    "import geopandas as gpd\n"
   ]
  },
  {
   "cell_type": "markdown",
   "metadata": {},
   "source": [
    "### Step 1: Data Preparation\n",
    "\n",
    "#### Step 1.1: Clip GER LULC SHPs\n",
    "\n",
    "~~In the rq1_step1_data_prep.ipynb file, I clipped all the output **rasters** to the Germany Natura 2000 areas - in this first data prep step, I do the same for the GER LULC shapefiles, as I will be working with vector data for creating the FAO-aligned forest map. ~~\n",
    "\n",
    "IMPORTANT: Skipping this clipping step for now as I didn't actually manage to clip the output rasters. "
   ]
  },
  {
   "cell_type": "code",
   "execution_count": 3,
   "metadata": {},
   "outputs": [],
   "source": [
    "# CLIP GER LULC SHPS\n",
    "\n",
    "# Store paths to reprojected GER LULC SHPs in a list\n",
    "#ger_lulc_paths = glob.glob('./processing/clc5_class*xx_3035_DE.shp')\n",
    "\n",
    "# Create a function which which clips the shp to the Germany Natura areas (& saves to processing folder)\n",
    "#def clip_shp_to_natura(input_paths):\n",
    "#    # Load Germany Natura 2000 areas\n",
    "#    natura_de_gdf = gpd.read_file(\"./outputs/natura2000_3035_DE.shp\")\n",
    "    # Iterate through the GER LULC shp paths \n",
    "#    for path in input_paths:\n",
    "        # Open the shp for each path \n",
    "#        ger_lulc_shp = gpd.read_file(path)\n",
    "        \n",
    "        # Clip input GER LULC shp to Natura shp\n",
    "#        shp_clip  = gpd.clip(ger_lulc_shp, natura_de_gdf)\n",
    "\n",
    "        # For output file naming: extract the input file name (with extension)\n",
    "#        name_w_ext = os.path.split(path)[1] \n",
    "        # For output file naming: remove extension from input file name \n",
    "#        name_wo_ext = os.path.splitext(name_w_ext)[0]\n",
    "        # For output file naming: create the new name for clipped shp\n",
    "#        new_name = name_wo_ext + \"_clipped.shp\"\n",
    "\n",
    "        # Write the reprojected shp to the processing folder\n",
    "#        shp_clip.to_file('./processing/' + new_name)\n",
    "\n",
    "# Run the function for the German LULC zipped shps\n",
    "#clip_shp_to_natura(ger_lulc_paths)\n"
   ]
  },
  {
   "cell_type": "markdown",
   "metadata": {},
   "source": [
    "#### Step 1.2: Merge GER LULC to 1 shp \n",
    "\n",
    "In order to make the next steps easier, all the GER LULC shps can be merged into 1 master shp. \n",
    "\n",
    "Help for merging/appending shps: https://geopandas.org/en/stable/docs/user_guide/mergingdata.html "
   ]
  },
  {
   "cell_type": "code",
   "execution_count": 2,
   "metadata": {},
   "outputs": [
    {
     "name": "stderr",
     "output_type": "stream",
     "text": [
      "c:\\Users\\ninam\\Documents\\UZH\\04_Thesis\\code\\nm_forest_thesis\\thesis_env_conda\\Lib\\site-packages\\pyogrio\\core.py:35: RuntimeWarning: Could not detect GDAL data files.  Set GDAL_DATA environment variable to the correct path.\n",
      "  _init_gdal_data()\n"
     ]
    },
    {
     "name": "stdout",
     "output_type": "stream",
     "text": [
      "   CLC18                                           geometry\n",
      "1    211  POLYGON ((4146745.819 2717004.087, 4146734.385...\n",
      "2    211  POLYGON ((4165806.543 2717207.554, 4165818.199...\n",
      "3    211  POLYGON ((4146387.414 2717223.442, 4146387.103...\n",
      "4    211  POLYGON ((4146153.622 2717666.462, 4146159.853...\n",
      "5    211  POLYGON ((4151519.606 2717859.941, 4151522.605...\n",
      "6    211  POLYGON ((4149840.835 2718128.946, 4149845.087...\n",
      "7    211  POLYGON ((4169308.498 2718137.965, 4169495.029...\n",
      "8    211  POLYGON ((4147925.397 2718503.85, 4147932.249 ...\n",
      "9    211  POLYGON ((4171379.434 2717936.674, 4171376.431...\n",
      "10   211  POLYGON ((4300299.085 2716461.898, 4300302.822...\n",
      "11   211  POLYGON ((4173074.078 2718192.411, 4173072.01 ...\n",
      "12   211  POLYGON ((4172046.043 2718344.172, 4172045.252...\n",
      "13   211  POLYGON ((4164891.098 2718556.067, 4164894.27 ...\n",
      "14   211  POLYGON ((4164024.105 2718509.396, 4164030.984...\n",
      "15   211  POLYGON ((4172833.873 2718627.483, 4172835.567...\n",
      "16   211  POLYGON ((4167303.57 2718765.281, 4167301.491 ...\n",
      "17   211  POLYGON ((4153183.507 2719246.608, 4153182.372...\n",
      "18   211  POLYGON ((4143194.613 2719460.657, 4143312.736...\n",
      "19   211  POLYGON ((4151013.621 2718850.998, 4151010.615...\n"
     ]
    },
    {
     "name": "stderr",
     "output_type": "stream",
     "text": [
      "c:\\Users\\ninam\\Documents\\UZH\\04_Thesis\\code\\nm_forest_thesis\\thesis_env_conda\\Lib\\site-packages\\pyogrio\\raw.py:723: RuntimeWarning: 2GB file size limit reached for processing\\clc5_classes234_3035_DE.shp. Going on, but might cause compatibility issues with third party software\n",
      "  ogr_write(\n"
     ]
    }
   ],
   "source": [
    "# MERGE GER LULC SHPS\n",
    "\n",
    "# Load all the GER LULC SHPs\n",
    "ger_lulc_class2_shp = gpd.read_file(\"./processing/clc5_class2xx_3035_DE.shp\")\n",
    "ger_lulc_class3_shp = gpd.read_file(\"./processing/clc5_class3xx_3035_DE.shp\")\n",
    "ger_lulc_class4_shp = gpd.read_file(\"./processing/clc5_class4xx_3035_DE.shp\")\n",
    "\n",
    "# Append the shapefiles together\n",
    "merged_ger_lulc_shp = pd.concat([ger_lulc_class2_shp,\n",
    "                                 ger_lulc_class3_shp,\n",
    "                                 ger_lulc_class4_shp,\n",
    "                                 ])\n",
    "\n",
    "# Check outputs\n",
    "print(merged_ger_lulc_shp[1:20])\n",
    "\n",
    "# Write the merged output to file\n",
    "merged_ger_lulc_shp.to_file('./processing/clc5_classes234_3035_DE.shp')"
   ]
  },
  {
   "cell_type": "markdown",
   "metadata": {},
   "source": [
    "#### Step 1.3: Reclassify & vectorise clipped Jaxa\n",
    "\n",
    "In order to implement the workflow for creating the FAO-aligned forest map, all input data must be vectors. In this step I vectorise the clipped JAXA 5m raster - but first I reclassify the raster to convert the information to a true Forest-Nonforest map.\n",
    "\n",
    "For JAXA, the reclassification to true Forest-Nonforest is as follows:\n",
    "\n",
    "| Original Value | Original Label               | New Value | New Label  |\n",
    "| -------------- | ---------------------------- | --------- | ---------- |\n",
    "| 0              | No Data                      | 0         | Non-Forest |\n",
    "| 1              | Forest (>90% canopy cover)   | 1         | Forest     |\n",
    "| 2              | Forest (10-90% canopy cover) | 1         | Forest     |\n",
    "| 3              | Non-Forest                   | 0         | Non-Forest |\n",
    "| 4              | Water                        | 0         | Non-Forest |\n",
    "\n",
    "Both forest categories are converted to forest here as this fits with the FAO canopy cover thresholds. \n",
    "\n",
    "Help with reclassifying (use gdal_calc): https://gis.stackexchange.com/questions/245170/reclassifying-raster-using-gdal \n",
    "\n",
    "Help with raster to vector: https://py.geocompx.org/05-raster-vector\n",
    "\n"
   ]
  },
  {
   "cell_type": "code",
   "execution_count": null,
   "metadata": {},
   "outputs": [],
   "source": []
  }
 ],
 "metadata": {
  "kernelspec": {
   "display_name": "thesis_env_conda",
   "language": "python",
   "name": "python3"
  },
  "language_info": {
   "codemirror_mode": {
    "name": "ipython",
    "version": 3
   },
   "file_extension": ".py",
   "mimetype": "text/x-python",
   "name": "python",
   "nbconvert_exporter": "python",
   "pygments_lexer": "ipython3",
   "version": "3.12.7"
  }
 },
 "nbformat": 4,
 "nbformat_minor": 2
}
