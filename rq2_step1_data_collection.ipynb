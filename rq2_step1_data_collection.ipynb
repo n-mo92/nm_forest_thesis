{
 "cells": [
  {
   "cell_type": "markdown",
   "metadata": {},
   "source": [
    "## RQ2 Data Collection\n",
    "\n",
    "\n",
    "[Add description]\n",
    "\n",
    "Wikiloc data extraction for Germany\n",
    "\n",
    "Python code provided by Chai-Allah et al, 2023 through their GitHub repo: https://github.com/achaiallah-hub/Wiki4CES"
   ]
  }
 ],
 "metadata": {
  "language_info": {
   "name": "python"
  }
 },
 "nbformat": 4,
 "nbformat_minor": 2
}
