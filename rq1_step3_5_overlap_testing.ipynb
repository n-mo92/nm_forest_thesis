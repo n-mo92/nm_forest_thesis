{
 "cells": [
  {
   "cell_type": "markdown",
   "id": "e6131ef8",
   "metadata": {},
   "source": [
    "#### Overlap testing\n",
    "\n",
    "In order to address the problems with double-counting, I need to remove the areas of overlap between Natura 2000 sites. In this file, I perform some testing to make sure I remove the overlaps correctly.\n",
    "\n",
    "My plan for removing the overlaps is basically to dissolve all the polygon boundaries to create to make one big polygon with no overlaps. I then 'explode' the geometry so that the massive multi-part geomtry is separate into individual polygons for each part. This step is needed because the big dissolved multi-part polygon is too big to calculate zonal statistics.\n",
    "\n",
    "My worry with this approach is that because I would end up creating smaller polygons than in the original dataset (the original dataset includes some multi-part Natura sites), this may mean the area gets calculated differently. In theory I think it should not matter, but I would like to check.\n",
    "\n",
    "To check for this issue, I do the following steps:\n",
    "1) Find a Natura 2000 site which is a multi-part polygon with some areas/parts that are very small\n",
    "2) Calculate the zonal statistics for this site in it's original form\n",
    "3) Separate ('explode') that geometry into individual polygons\n",
    "4) Calculate the zonal statistics for the separated/exploded geometries\n",
    "5) Compare the two sets of zonal statistics\n",
    "\n",
    "My hope is that these would return the same results, even though the second exploded geomtry set might return some empty results for the small polygons. I think these would also be missing from the result for the multi-part geometry set, but it just wouldn't be clear from the results because you only get a single result back for the whole multi-part polygon. If the results match then I think the dissolve/explode approach to remove the overlaps is a good way forward. "
   ]
  }
 ],
 "metadata": {
  "language_info": {
   "name": "python"
  }
 },
 "nbformat": 4,
 "nbformat_minor": 5
}
