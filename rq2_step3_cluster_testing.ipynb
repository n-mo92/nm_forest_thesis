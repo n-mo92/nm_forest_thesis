{
 "cells": [
  {
   "cell_type": "code",
   "execution_count": 2,
   "id": "dace503d",
   "metadata": {},
   "outputs": [],
   "source": [
    "# SETUP\n",
    "\n",
    "# Import packages\n",
    "import pickle"
   ]
  },
  {
   "cell_type": "code",
   "execution_count": 3,
   "id": "8b76492b",
   "metadata": {},
   "outputs": [],
   "source": [
    "vectors = pickle.load(open(\"./processing/vectors.p\", \"rb\"))\n",
    "valid_tokens = pickle.load(open(\"./processing/valid_tokens.p\", \"rb\"))"
   ]
  }
 ],
 "metadata": {
  "kernelspec": {
   "display_name": "Python 3",
   "language": "python",
   "name": "python3"
  },
  "language_info": {
   "codemirror_mode": {
    "name": "ipython",
    "version": 3
   },
   "file_extension": ".py",
   "mimetype": "text/x-python",
   "name": "python",
   "nbconvert_exporter": "python",
   "pygments_lexer": "ipython3",
   "version": "3.12.7"
  }
 },
 "nbformat": 4,
 "nbformat_minor": 5
}
