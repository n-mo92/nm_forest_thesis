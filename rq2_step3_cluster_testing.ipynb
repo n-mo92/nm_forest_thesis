{
 "cells": [
  {
   "cell_type": "markdown",
   "id": "48ad5359",
   "metadata": {},
   "source": [
    "Some resources: \n",
    "\n",
    "https://scikit-learn.org/stable/modules/generated/sklearn.metrics.pairwise.cosine_similarity.html\n",
    "https://medium.com/web-mining-is688-spring-2021/assignment-4-5236a8c96167\n",
    "\n",
    "\n",
    "\n"
   ]
  },
  {
   "cell_type": "code",
   "execution_count": 9,
   "id": "4936718c",
   "metadata": {},
   "outputs": [],
   "source": [
    "# SETUP\n",
    "\n",
    "# Import packages\n",
    "import numpy as np\n",
    "import pandas as pd\n",
    "import pickle\n",
    "\n",
    "from sklearn.metrics.pairwise import cosine_similarity\n",
    "from sklearn.cluster import KMeans\n",
    "import matplotlib.pyplot as plt\n"
   ]
  },
  {
   "cell_type": "code",
   "execution_count": 3,
   "id": "8b76492b",
   "metadata": {},
   "outputs": [],
   "source": [
    "vectors = pickle.load(open(\"./processing/vectors.p\", \"rb\"))\n",
    "valid_tokens = pickle.load(open(\"./processing/valid_tokens.p\", \"rb\"))"
   ]
  },
  {
   "cell_type": "code",
   "execution_count": 5,
   "id": "1dd0367f",
   "metadata": {},
   "outputs": [
    {
     "data": {
      "text/plain": [
       "array([[1.        , 0.15387696, 0.11156481, ..., 0.01050335, 0.10908242,\n",
       "        0.06498708],\n",
       "       [0.15387696, 0.9999999 , 0.42341924, ..., 0.1232748 , 0.0279815 ,\n",
       "        0.04973299],\n",
       "       [0.11156481, 0.42341924, 1.        , ..., 0.06582817, 0.06763461,\n",
       "        0.03839663],\n",
       "       ...,\n",
       "       [0.01050335, 0.1232748 , 0.06582817, ..., 0.99999994, 0.11986385,\n",
       "        0.07685857],\n",
       "       [0.10908242, 0.0279815 , 0.06763461, ..., 0.11986385, 1.        ,\n",
       "        0.0835198 ],\n",
       "       [0.06498708, 0.04973299, 0.03839663, ..., 0.07685857, 0.0835198 ,\n",
       "        1.0000001 ]], dtype=float32)"
      ]
     },
     "execution_count": 5,
     "metadata": {},
     "output_type": "execute_result"
    }
   ],
   "source": [
    "# Calculate cosine similarity between vectors\n",
    "cos_sim = cosine_similarity(vectors)\n",
    "\n",
    "cos_sim\n",
    "\n",
    "# Convert to cosine distance\n",
    "#cos_dist = 1 - cos_sim\n",
    "\n",
    "#cos_dist"
   ]
  }
 ],
 "metadata": {
  "kernelspec": {
   "display_name": "Python 3",
   "language": "python",
   "name": "python3"
  },
  "language_info": {
   "codemirror_mode": {
    "name": "ipython",
    "version": 3
   },
   "file_extension": ".py",
   "mimetype": "text/x-python",
   "name": "python",
   "nbconvert_exporter": "python",
   "pygments_lexer": "ipython3",
   "version": "3.12.7"
  }
 },
 "nbformat": 4,
 "nbformat_minor": 5
}
